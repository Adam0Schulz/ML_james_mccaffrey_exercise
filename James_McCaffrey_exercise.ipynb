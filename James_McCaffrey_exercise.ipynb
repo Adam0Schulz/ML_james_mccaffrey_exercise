{
  "nbformat": 4,
  "nbformat_minor": 0,
  "metadata": {
    "colab": {
      "provenance": [],
      "authorship_tag": "ABX9TyOwqGjBOx+iXsIRNJnlO6W2",
      "include_colab_link": true
    },
    "kernelspec": {
      "name": "python3",
      "display_name": "Python 3"
    },
    "language_info": {
      "name": "python"
    }
  },
  "cells": [
    {
      "cell_type": "markdown",
      "metadata": {
        "id": "view-in-github",
        "colab_type": "text"
      },
      "source": [
        "<a href=\"https://colab.research.google.com/github/Adam0Schulz/ML_james_mccaffrey_exercise/blob/master/James_McCaffrey_exercise.ipynb\" target=\"_parent\"><img src=\"https://colab.research.google.com/assets/colab-badge.svg\" alt=\"Open In Colab\"/></a>"
      ]
    },
    {
      "cell_type": "code",
      "execution_count": 1,
      "metadata": {
        "id": "36UtTHN7mE0F"
      },
      "outputs": [],
      "source": [
        "import numpy as np\n",
        "from tensorflow.keras.models import Sequential\n",
        "from tensorflow.keras.layers import Dense\n",
        "from tensorflow.keras import optimizers"
      ]
    },
    {
      "cell_type": "code",
      "source": [
        "model = Sequential()\n",
        "model.add(Dense(4, input_dim=7, activation='sigmoid', use_bias=True))\n",
        "model.add(Dense(3, activation='sigmoid', use_bias=True))\n",
        "adam = optimizers.Adam(learning_rate = 0.1)\n",
        "model.compile(loss='categorical_crossentropy', optimizer=adam) # categorical for more than two\n",
        "model.summary()\n"
      ],
      "metadata": {
        "id": "VI2gSIb8mPX6"
      },
      "execution_count": null,
      "outputs": []
    },
    {
      "cell_type": "code",
      "source": [
        "x = np.array([[ 0.27, 0.24, 0,1, 1,0,0 ], \n",
        "              [ 0.48, 0.98, 1,0, 0,1,0 ], \n",
        "              [ 0.33, 0.44, 1,0, 0,0,1 ], \n",
        "              [ 0.30, 0.29, 0,1, 0,1,0 ],\n",
        "              [ 0.66, 0.65, 1,0, 1,0,0 ]\n",
        "              ])\n",
        "y = np.array([[1,0,0],\n",
        "              [0,1,0],\n",
        "              [0,1,0],\n",
        "              [0,0,1],\n",
        "              [1,0,0],\n",
        "              ])\n"
      ],
      "metadata": {
        "id": "xeT-TXpfmRon"
      },
      "execution_count": 3,
      "outputs": []
    },
    {
      "cell_type": "code",
      "source": [
        "model.fit(x, y, epochs=1000, batch_size=2, verbose=1)"
      ],
      "metadata": {
        "id": "97SsyMdfmTFh"
      },
      "execution_count": null,
      "outputs": []
    },
    {
      "cell_type": "code",
      "source": [
        "prediction = model.predict([[0.38, 0.51, 1,0, 1,0,0]])\n",
        "print(prediction)\n"
      ],
      "metadata": {
        "colab": {
          "base_uri": "https://localhost:8080/"
        },
        "id": "g7l3pjA8mYN1",
        "outputId": "905ddf25-2556-42d6-9424-2d3e7d7cd8ad"
      },
      "execution_count": 6,
      "outputs": [
        {
          "output_type": "stream",
          "name": "stdout",
          "text": [
            "1/1 [==============================] - 0s 43ms/step\n",
            "[[0.9912814  0.00368167 0.00281234]]\n"
          ]
        }
      ]
    }
  ]
}